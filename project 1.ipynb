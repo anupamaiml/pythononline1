{
 "cells": [
  {
   "cell_type": "code",
   "execution_count": 1,
   "metadata": {},
   "outputs": [
    {
     "name": "stdout",
     "output_type": "stream",
     "text": [
      "passed\n",
      "passed\n",
      "passed\n",
      "passed\n"
     ]
    }
   ],
   "source": [
    "# Different ways to test multiple\n",
    "# flags at once in Python\n",
    "x, y, z = 0, 1, 0\n",
    "\n",
    "if x == 1 or y == 1 or z == 1:\n",
    "    print('passed')\n",
    "\n",
    "if 1 in (x, y, z):\n",
    "    print('passed')\n",
    "\n",
    "# These only test for truthiness:\n",
    "if x or y or z:\n",
    "    print('passed')\n",
    "\n",
    "if any((x, y, z)):\n",
    "    print('passed')"
   ]
  },
  {
   "cell_type": "code",
   "execution_count": 6,
   "metadata": {},
   "outputs": [
    {
     "ename": "SyntaxError",
     "evalue": "invalid syntax (<ipython-input-6-c4fec19ba9b5>, line 4)",
     "output_type": "error",
     "traceback": [
      "\u001b[1;36m  File \u001b[1;32m\"<ipython-input-6-c4fec19ba9b5>\"\u001b[1;36m, line \u001b[1;32m4\u001b[0m\n\u001b[1;33m    >>> x = {'a': 1, 'b': 2}\u001b[0m\n\u001b[1;37m     ^\u001b[0m\n\u001b[1;31mSyntaxError\u001b[0m\u001b[1;31m:\u001b[0m invalid syntax\n"
     ]
    }
   ],
   "source": [
    "# How to merge two dictionaries\n",
    "# in Python 3.5+\n",
    "\n",
    ">>> x = {'a': 1, 'b': 2}\n",
    ">>> y = {'b': 3, 'c': 4}\n",
    ">>>\n",
    ">>> z = {**x, **y}\n",
    "{'b': 2, 'd': 4, 'a': 1, 'c': 3}\n",
    ">>>\n",
    ">>> z = {'a': 3,'b': 4}\n",
    ">>>\n",
    ">>>{**x, **z}\n",
    "{'b': 4, 'a': 3}\n",
    ">>>\n",
    ">>> \n"
   ]
  },
  {
   "cell_type": "code",
   "execution_count": null,
   "metadata": {},
   "outputs": [],
   "source": [
    "\\\\\\\n"
   ]
  }
 ],
 "metadata": {
  "kernelspec": {
   "display_name": "Python 3",
   "language": "python",
   "name": "python3"
  },
  "language_info": {
   "codemirror_mode": {
    "name": "ipython",
    "version": 3
   },
   "file_extension": ".py",
   "mimetype": "text/x-python",
   "name": "python",
   "nbconvert_exporter": "python",
   "pygments_lexer": "ipython3",
   "version": "3.7.6"
  }
 },
 "nbformat": 4,
 "nbformat_minor": 4
}
